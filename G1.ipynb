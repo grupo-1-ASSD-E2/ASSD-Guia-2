{
 "cells": [
  {
   "cell_type": "code",
   "execution_count": null,
   "metadata": {},
   "outputs": [],
   "source": []
  },
  {
   "cell_type": "markdown",
   "metadata": {},
   "source": [
    "# $ \\color{blue}{\\text{EJERCICIO 1}} $\n",
    "\n",
    "## $ \\color{blue}{\\text{Idem ejercicio 2b de la Guía 1, pero aplicando transformada Z}} $\n",
    "\n",
    "![title](Resources/EJ2/ej2B.png)\n",
    "\n",
    "<br>\n",
    "\n",
    "Se llama $w(n)$ a la señal en el nodo marcado con rojo en la figura anterior, de forma que se tienen las siguientes señales:\n",
    "\n",
    "$$ x(nT)$$\n",
    "$$ w(nT) = x(nT) + w((n-1)T) - 0,5 \\cdot w((n-2)T)$$\n",
    "$$ y(nT) = w(nT) + w((n-1)T)$$\n",
    "\n",
    "<br>\n",
    "\n",
    "Aplicando la transformada $Z$ a las ecuaciones anteriores, se obtienen:\n",
    "\n",
    "$$ X(z) $$\n",
    "$$ W(z) = X(z) + W(z) \\cdot z^{-1} - 0,5 \\cdot W(z) \\cdot z^{-2}$$\n",
    "$$ Y(z) = W(z) + W(z) \\cdot z^{-1} $$\n",
    "\n",
    "De las ecuaciones anteriores se obtiene:\n",
    "<br>\n",
    "$Y(z) = X(z) \\cdot \\frac{1+z^{-1}}{1-z^{-1}+0,5z^{-2}}$\n",
    "<br>\n",
    "$\\implies Y(z) \\cdot (1-z^{-1}+0,5z^{-2}) = X(z) \\cdot (1 + z^{-1})$\n",
    "<br>\n",
    "$\\implies Y(z) = X(z) + X(z) \\cdot z^{-1} + Y(z) \\cdot z^{-1} - 0,5 Y(z) z^{-2}$\n",
    "\n",
    "<br>\n",
    "<br>\n",
    "\n",
    "Y finalmente, antitransformando la última expresión usando la transformada inversa de $Z$, se obtiene:\n",
    "\n",
    "$$y(nT) = x(nT) + x((n-1)T) + y((n-1)T) - 0,5 \\cdot y((n-2)T)$$ \n",
    "\n",
    "En la $Guía 1$ se resolvió este sistema pero sin aplicar transformada $Z$, y tanto de esa forma como de esta, se llegó al mismo resultado. Aplicar la transformada $Z$ permitió obtenerlo de manera más rapida y más sensilla, evitando una mayor camtidad de cuentas y pasos como lo fue sin transformada $Z$.\n",
    "\n"
   ]
  },
  {
   "cell_type": "code",
   "execution_count": null,
   "metadata": {},
   "outputs": [],
   "source": []
  }
 ],
 "metadata": {
  "file_extension": ".py",
  "kernelspec": {
   "display_name": "Python 3",
   "language": "python",
   "name": "python3"
  },
  "language_info": {
   "codemirror_mode": {
    "name": "ipython",
    "version": 3
   },
   "file_extension": ".py",
   "mimetype": "text/x-python",
   "name": "python",
   "nbconvert_exporter": "python",
   "pygments_lexer": "ipython3",
   "version": "3.7.6-final"
  },
  "mimetype": "text/x-python",
  "name": "python",
  "npconvert_exporter": "python",
  "pygments_lexer": "ipython3",
  "version": 3
 },
 "nbformat": 4,
 "nbformat_minor": 2
}